{
 "cells": [
  {
   "cell_type": "markdown",
   "metadata": {},
   "source": [
    "# Taxes in the Ramsey model"
   ]
  },
  {
   "cell_type": "markdown",
   "metadata": {},
   "source": [
    "Interactive version available at https://mybinder.org/v2/gh/marcinbielecki/Advanced_Macroeconomics/master as `Ramsey_taxes.ipynb`"
   ]
  },
  {
   "cell_type": "code",
   "execution_count": null,
   "metadata": {},
   "outputs": [],
   "source": [
    "%matplotlib inline\n",
    "\n",
    "import numpy as np\n",
    "import matplotlib.pyplot as plt\n",
    "# from MacroPlots import *\n",
    "\n",
    "import scipy.optimize as opt"
   ]
  },
  {
   "cell_type": "markdown",
   "metadata": {},
   "source": [
    "### Effects of a pre-announced VAT tax hike"
   ]
  },
  {
   "cell_type": "code",
   "execution_count": null,
   "metadata": {},
   "outputs": [],
   "source": [
    "# Calibration follows Ljungqvist and Sargent (2012), p. 395\n",
    "\n",
    "α = 0.33\n",
    "δ = 0.2\n",
    "β = 0.95\n",
    "g = 0.2\n",
    "σ = 2    # LS call it γ"
   ]
  },
  {
   "cell_type": "code",
   "execution_count": null,
   "metadata": {},
   "outputs": [],
   "source": [
    "# Define production function, MPK and steady state conditions\n",
    "\n",
    "def f(k):\n",
    "    return k**α\n",
    "\n",
    "def df_dk(k):\n",
    "    return α * k**(α-1)\n",
    "\n",
    "def RCK_ss(variables, τ_c=0):\n",
    "    \n",
    "    (k, c) = variables\n",
    "    \n",
    "    y = f(k)\n",
    "    r = df_dk(k) - δ\n",
    "    \n",
    "    EE = β*(1+r) - 1                 # Euler equation\n",
    "    RC = f(k) + (1-δ)*k - g - c - k  # Resource constraint\n",
    "    \n",
    "    return [EE, RC]"
   ]
  },
  {
   "cell_type": "code",
   "execution_count": null,
   "metadata": {},
   "outputs": [],
   "source": [
    "# Find old and new steady states\n",
    "\n",
    "τ_c_0 = 0\n",
    "τ_c_1 = 0.2\n",
    "\n",
    "results = opt.fsolve(RCK_ss, (1.5, 0.8), args=(τ_c_0))\n",
    "print('Initial steady state \\t=', results)\n",
    "k_ss_0 = results[0]\n",
    "c_ss_0 = results[1]\n",
    "\n",
    "results = opt.fsolve(RCK_ss, (1.5, 0.8), args=(τ_c_1))\n",
    "print('Final steady state \\t=', results)\n",
    "k_ss_1 = results[0]\n",
    "c_ss_1 = results[1]"
   ]
  },
  {
   "cell_type": "code",
   "execution_count": null,
   "metadata": {},
   "outputs": [],
   "source": [
    "# Dynamic equations\n",
    "\n",
    "def Resource_Constraint(k, c, τ_c):\n",
    "    \n",
    "    k_n = f(k) + (1-δ)*k - g - c\n",
    "    \n",
    "    return k_n\n",
    "\n",
    "def Interest_Rate(k):\n",
    "    return df_dk(k) - δ\n",
    "\n",
    "def Euler_Equation(k, c, τ_c, τ_c_n):\n",
    "    \n",
    "    k_n = Resource_Constraint(k, c, τ_c)\n",
    "    \n",
    "    if k_n > 0:\n",
    "        r_n = Interest_Rate(k_n)\n",
    "        c_n = ( (1+τ_c)/(1+τ_c_n) * β * (1+r_n) )**(1/σ) * c\n",
    "    else:\n",
    "        c_n = 0\n",
    "        \n",
    "    return c_n"
   ]
  },
  {
   "cell_type": "code",
   "execution_count": null,
   "metadata": {},
   "outputs": [],
   "source": [
    "# Forward equations and convergence criterion\n",
    "\n",
    "def Path(c_0, k_0, Tτ=20, T=50):\n",
    "    \n",
    "    T += 1\n",
    "    \n",
    "    k_t = np.zeros(T)\n",
    "    c_t = np.zeros(T)\n",
    "    τ_c_t = np.zeros(T)\n",
    "    \n",
    "    τ_c_t[:Tτ] = τ_c_0\n",
    "    τ_c_t[Tτ:] = τ_c_1\n",
    "    \n",
    "    k_t[0] = k_0\n",
    "    c_t[0] = c_0\n",
    "    \n",
    "    for t in range(T-1):\n",
    "        k_t[t+1] = Resource_Constraint(k_t[t], c_t[t], τ_c_t[t])\n",
    "        if k_t[t+1] > 0:\n",
    "            c_t[t+1] = Euler_Equation(k_t[t], c_t[t], τ_c_t[t], τ_c_t[t+1])\n",
    "        else:\n",
    "            k_t[t+1] = 0\n",
    "            c_t[t+1] = 0\n",
    "            \n",
    "    return k_t, c_t\n",
    "\n",
    "def Path_crit(c_0, k_0, Tτ=20, T=50):\n",
    "    \n",
    "    k_t, c_t = Path(c_0, k_0, Tτ, T)\n",
    "    \n",
    "    ss_diff = np.sqrt((k_t-k_ss_1)**2 + (c_t-c_ss_1)**2)\n",
    "    \n",
    "    return np.min(ss_diff) + ss_diff[-1]"
   ]
  },
  {
   "cell_type": "code",
   "execution_count": null,
   "metadata": {},
   "outputs": [],
   "source": [
    "# Find the function minimum, starting from an initial guess\n",
    "result = opt.minimize(Path_crit, c_ss_0, args=(k_ss_0), method='Powell') # 'Nelder-Mead'\n",
    "print(result)\n",
    "\n",
    "c_0 = result.x"
   ]
  },
  {
   "cell_type": "code",
   "execution_count": null,
   "metadata": {},
   "outputs": [],
   "source": [
    "# Plot the phase diagram\n",
    "\n",
    "k_t, c_t = Path(c_0, k_ss_0)\n",
    "\n",
    "plt.plot(k_t[:20], c_t[:20], '<-', label='Before VAT hike')\n",
    "plt.plot(k_t[20:], c_t[20:], '>-', label='After VAT hike')\n",
    "plt.plot(k_t[19:21], c_t[19:21], 'rv-', label='During VAT hike')\n",
    "plt.plot(k_ss_1, c_ss_1, 'ko', label='Steady state')\n",
    "plt.legend(frameon=False)\n",
    "plt.xlabel('Capital per person $k$')\n",
    "plt.ylabel('Consumption per person $c$')\n",
    "plt.show()"
   ]
  },
  {
   "cell_type": "code",
   "execution_count": null,
   "metadata": {},
   "outputs": [],
   "source": [
    "# Convert to montly frequency and display as time series\n",
    "\n",
    "c_t_m = np.mean(np.array(c_t[:-1]).reshape(-1, 2), axis=1)\n",
    "\n",
    "# plt.subplots(figsize=(20, 15))\n",
    "\n",
    "plt.plot(100*c_t_m/c_ss_0, lw=3)\n",
    "plt.vlines(9.5, 94, 108, lw=2, linestyle='dashed')\n",
    "plt.ylim(94, 108)\n",
    "plt.xlim(4, 12)\n",
    "plt.xticks(np.linspace(4, 12, 9), ['t-6', 't-5', 't-4', 't-3', 't-2', 't-1', 't', 't+1', 't+2'])\n",
    "plt.title('Consumption')\n",
    "plt.show()"
   ]
  },
  {
   "cell_type": "markdown",
   "metadata": {},
   "source": [
    "Compare the above outcome to the real-world behavior of consumption in Germany and Japan around the VAT tax hikes\n",
    "\n",
    "![Effects of VAT tax hikes](img/RCK/figure-one.jpg)\n",
    "\n",
    "Source: [Danninger (2014) What Japan’s economy needs now](https://www.weforum.org/agenda/2014/08/japan-consumption-tax-structural-reform-abenomics/)"
   ]
  },
  {
   "cell_type": "markdown",
   "metadata": {},
   "source": [
    "### Consumption vs labor tax when households choose labor input"
   ]
  },
  {
   "cell_type": "code",
   "execution_count": null,
   "metadata": {},
   "outputs": [],
   "source": [
    "# Parameters\n",
    "\n",
    "A = 1\n",
    "α = 1/3\n",
    "δ = 0.1\n",
    "ρ = 1/30\n",
    "β = 1/(1+ρ)\n",
    "print(β)\n",
    "\n",
    "φ = 1.7777777777"
   ]
  },
  {
   "cell_type": "code",
   "execution_count": null,
   "metadata": {},
   "outputs": [],
   "source": [
    "# Functions that are not affected by taxes nor the utility function\n",
    "\n",
    "def k_h(A, α, δ, ρ):\n",
    "    return (α*A/(δ+ρ))**(1/(1-α))\n",
    "\n",
    "def y_h(A, α, δ, ρ):\n",
    "    return k_h(A, α, δ, ρ)**α\n",
    "\n",
    "def w(A, α, δ, ρ):\n",
    "    return (1-α)*y_h(A, α, δ, ρ)\n",
    "\n",
    "def c_h(A, α, δ, ρ):\n",
    "    return y_h(A, α, δ, ρ) - δ*k_h(A, α, δ, ρ)"
   ]
  },
  {
   "cell_type": "code",
   "execution_count": null,
   "metadata": {},
   "outputs": [],
   "source": [
    "# Functions that are affected by taxes and utility function\n",
    "\n",
    "def h(A, α, δ, ρ, φ, τ_w=0, τ_c=0):\n",
    "    try:\n",
    "        return 1/( 1 + φ * (1+τ_c)/(1-τ_w)/w(A, α, δ, ρ) * c_h(A, α, δ, ρ) )\n",
    "    except:\n",
    "        return 0\n",
    "    \n",
    "h = np.vectorize(h)"
   ]
  },
  {
   "cell_type": "code",
   "execution_count": null,
   "metadata": {},
   "outputs": [],
   "source": [
    "h(A, α, δ, ρ, φ)"
   ]
  },
  {
   "cell_type": "code",
   "execution_count": null,
   "metadata": {},
   "outputs": [],
   "source": [
    "ττ = np.linspace(0, 1, 1+1000)"
   ]
  },
  {
   "cell_type": "code",
   "execution_count": null,
   "metadata": {},
   "outputs": [],
   "source": [
    "plt.plot(ττ*100, ττ*w(A, α, δ, ρ)*h(A, α, δ, ρ, φ, ττ, 0), lw=3, label='Labor income tax')\n",
    "plt.plot(ττ*100, ττ*c_h(A, α, δ, ρ)*h(A, α, δ, ρ, φ, 0, ττ), lw=3, label='Consumption tax')\n",
    "\n",
    "plt.title('Comparison of tax revenue')\n",
    "plt.xlabel('Tax rate (%)')\n",
    "plt.ylabel('Tax revenue')\n",
    "plt.legend(frameon=False)\n",
    "\n",
    "plt.show()"
   ]
  },
  {
   "cell_type": "code",
   "execution_count": null,
   "metadata": {},
   "outputs": [],
   "source": [
    "plt.plot(ττ*w(A, α, δ, ρ)*h(A, α, δ, ρ, φ, ττ, 0), \n",
    "         y_h(A, α, δ, ρ)*h(A, α, δ, ρ, φ, ττ, 0), lw=3, label='Labor income tax')\n",
    "\n",
    "plt.plot(ττ*c_h(A, α, δ, ρ)*h(A, α, δ, ρ, φ, 0, ττ), \n",
    "         y_h(A, α, δ, ρ)*h(A, α, δ, ρ, φ, 0, ττ), lw=3, label='Consumption tax')\n",
    "\n",
    "plt.title('Comparison of tax distortions: GDP per person')\n",
    "plt.xlabel('Tax revenue')\n",
    "plt.ylabel('GDP per person')\n",
    "plt.legend(frameon=False)\n",
    "\n",
    "plt.show()"
   ]
  },
  {
   "cell_type": "code",
   "execution_count": null,
   "metadata": {},
   "outputs": [],
   "source": [
    "hh = h(A, α, δ, ρ, φ, ττ[:-1], 0)\n",
    "cc = c_h(A, α, δ, ρ) * hh\n",
    "\n",
    "plt.plot(ττ[:-1]*w(A, α, δ, ρ)*hh, np.log(cc)+φ*np.log(1-hh), lw=3, label='Labor income tax')\n",
    "\n",
    "hh = h(A, α, δ, ρ, φ, 0, ττ[:-1])\n",
    "cc = c_h(A, α, δ, ρ) * hh\n",
    "\n",
    "plt.plot(ττ[:-1]*cc, np.log(cc)+φ*np.log(1-hh), lw=3, label='Consumption tax')\n",
    "\n",
    "plt.ylim(-2, -1.6)\n",
    "\n",
    "plt.title('Comparison of tax distortions: utility')\n",
    "plt.xlabel('Tax revenue')\n",
    "plt.ylabel('Utility function')\n",
    "plt.legend(frameon=False)\n",
    "\n",
    "plt.show()"
   ]
  },
  {
   "cell_type": "markdown",
   "metadata": {},
   "source": [
    "Can the model explain the differences between the average hours worked in the USA vs Germany & France based on the differences in the average labor income tax rate?"
   ]
  },
  {
   "cell_type": "code",
   "execution_count": null,
   "metadata": {},
   "outputs": [],
   "source": [
    "# Data\n",
    "\n",
    "USA_h = 1790 / 8766\n",
    "USA_GDP_ph = 59\n",
    "USA_GDP_pc = 102500\n",
    "USA_τ_w = 0.255       # Average labor income tax rate in the US\n",
    "\n",
    "FR_DE_h = 1465 / 8766\n",
    "FR_DE_GDP_ph = 56\n",
    "FR_DE_GDP_pc = 82200\n",
    "FR_DE_τ_w = 0.4375    # Average labor income tax rate in France & Germany"
   ]
  },
  {
   "cell_type": "code",
   "execution_count": null,
   "metadata": {},
   "outputs": [],
   "source": [
    "# Model outcomes\n",
    "\n",
    "USA_h_model = h(1, α, δ, ρ, φ, USA_τ_w, 0)\n",
    "FR_DE_h_model = h(FR_DE_GDP_ph/USA_GDP_ph, α, δ, ρ, φ, FR_DE_τ_w, 0)\n",
    "\n",
    "print('Ratio of hours worked: USA vs FR & DE')\n",
    "print('Model \\t', USA_h_model/FR_DE_h_model)\n",
    "print('Data \\t', USA_h/FR_DE_h)\n",
    "\n",
    "USA_y_model = h(1, α, δ, ρ, φ, USA_τ_w, 0)*y_h(1, α, δ, ρ)\n",
    "FR_DE_y_model = h(FR_DE_GDP_ph/USA_GDP_ph, α, δ, ρ, φ, FR_DE_τ_w, 0)*y_h(FR_DE_GDP_ph/USA_GDP_ph, α, δ, ρ)\n",
    "\n",
    "print('\\nRatio of GDP per person: USA vs FR & DE')\n",
    "print('Model \\t', USA_y_model/FR_DE_y_model)\n",
    "print('Data \\t', USA_GDP_pc/FR_DE_GDP_pc)"
   ]
  },
  {
   "cell_type": "code",
   "execution_count": null,
   "metadata": {},
   "outputs": [],
   "source": []
  }
 ],
 "metadata": {
  "kernelspec": {
   "display_name": "Python 3",
   "language": "python",
   "name": "python3"
  },
  "language_info": {
   "codemirror_mode": {
    "name": "ipython",
    "version": 3
   },
   "file_extension": ".py",
   "mimetype": "text/x-python",
   "name": "python",
   "nbconvert_exporter": "python",
   "pygments_lexer": "ipython3",
   "version": "3.7.3"
  }
 },
 "nbformat": 4,
 "nbformat_minor": 2
}
